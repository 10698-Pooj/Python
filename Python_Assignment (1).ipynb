{
 "cells": [
  {
   "cell_type": "code",
   "execution_count": 25,
   "metadata": {},
   "outputs": [],
   "source": [
    "import numpy as np\n",
    "import pandas as pd\n",
    "import matplotlib.pyplot as plt, seaborn as sns\n",
    "%matplotlib inline \n",
    "# sets backend of matpotlin to thr inline backend i.e., to show the output directly below the code."
   ]
  },
  {
   "cell_type": "code",
   "execution_count": 26,
   "metadata": {},
   "outputs": [],
   "source": [
    "data=pd.read_csv(r'C:\\Users\\DELL\\Desktop\\playstore-analysis (2) (1).csv')"
   ]
  },
  {
   "cell_type": "code",
   "execution_count": 27,
   "metadata": {},
   "outputs": [
    {
     "data": {
      "text/html": [
       "<div>\n",
       "<style scoped>\n",
       "    .dataframe tbody tr th:only-of-type {\n",
       "        vertical-align: middle;\n",
       "    }\n",
       "\n",
       "    .dataframe tbody tr th {\n",
       "        vertical-align: top;\n",
       "    }\n",
       "\n",
       "    .dataframe thead th {\n",
       "        text-align: right;\n",
       "    }\n",
       "</style>\n",
       "<table border=\"1\" class=\"dataframe\">\n",
       "  <thead>\n",
       "    <tr style=\"text-align: right;\">\n",
       "      <th></th>\n",
       "      <th>App</th>\n",
       "      <th>Category</th>\n",
       "      <th>Rating</th>\n",
       "      <th>Reviews</th>\n",
       "      <th>Size</th>\n",
       "      <th>Installs</th>\n",
       "      <th>Type</th>\n",
       "      <th>Price</th>\n",
       "      <th>Content Rating</th>\n",
       "      <th>Genres</th>\n",
       "      <th>Last Updated</th>\n",
       "      <th>Current Ver</th>\n",
       "      <th>Android Ver</th>\n",
       "    </tr>\n",
       "  </thead>\n",
       "  <tbody>\n",
       "    <tr>\n",
       "      <th>0</th>\n",
       "      <td>Photo Editor &amp; Candy Camera &amp; Grid &amp; ScrapBook</td>\n",
       "      <td>ART_AND_DESIGN</td>\n",
       "      <td>4.1</td>\n",
       "      <td>159</td>\n",
       "      <td>19000.0</td>\n",
       "      <td>10,000+</td>\n",
       "      <td>Free</td>\n",
       "      <td>0</td>\n",
       "      <td>Everyone</td>\n",
       "      <td>Art &amp; Design</td>\n",
       "      <td>January 7, 2018</td>\n",
       "      <td>1.0.0</td>\n",
       "      <td>4.0.3 and up</td>\n",
       "    </tr>\n",
       "    <tr>\n",
       "      <th>1</th>\n",
       "      <td>Coloring book moana</td>\n",
       "      <td>ART_AND_DESIGN</td>\n",
       "      <td>3.9</td>\n",
       "      <td>967</td>\n",
       "      <td>14000.0</td>\n",
       "      <td>500,000+</td>\n",
       "      <td>Free</td>\n",
       "      <td>0</td>\n",
       "      <td>Everyone</td>\n",
       "      <td>Art &amp; Design;Pretend Play</td>\n",
       "      <td>January 15, 2018</td>\n",
       "      <td>2.0.0</td>\n",
       "      <td>4.0.3 and up</td>\n",
       "    </tr>\n",
       "    <tr>\n",
       "      <th>2</th>\n",
       "      <td>U Launcher Lite – FREE Live Cool Themes, Hide ...</td>\n",
       "      <td>ART_AND_DESIGN</td>\n",
       "      <td>4.7</td>\n",
       "      <td>87510</td>\n",
       "      <td>8700.0</td>\n",
       "      <td>5,000,000+</td>\n",
       "      <td>Free</td>\n",
       "      <td>0</td>\n",
       "      <td>Everyone</td>\n",
       "      <td>Art &amp; Design</td>\n",
       "      <td>August 1, 2018</td>\n",
       "      <td>1.2.4</td>\n",
       "      <td>4.0.3 and up</td>\n",
       "    </tr>\n",
       "    <tr>\n",
       "      <th>3</th>\n",
       "      <td>Sketch - Draw &amp; Paint</td>\n",
       "      <td>ART_AND_DESIGN</td>\n",
       "      <td>4.5</td>\n",
       "      <td>215644</td>\n",
       "      <td>25000.0</td>\n",
       "      <td>50,000,000+</td>\n",
       "      <td>Free</td>\n",
       "      <td>0</td>\n",
       "      <td>Teen</td>\n",
       "      <td>Art &amp; Design</td>\n",
       "      <td>June 8, 2018</td>\n",
       "      <td>Varies with device</td>\n",
       "      <td>4.2 and up</td>\n",
       "    </tr>\n",
       "    <tr>\n",
       "      <th>4</th>\n",
       "      <td>Pixel Draw - Number Art Coloring Book</td>\n",
       "      <td>ART_AND_DESIGN</td>\n",
       "      <td>4.3</td>\n",
       "      <td>967</td>\n",
       "      <td>2800.0</td>\n",
       "      <td>100,000+</td>\n",
       "      <td>Free</td>\n",
       "      <td>0</td>\n",
       "      <td>Everyone</td>\n",
       "      <td>Art &amp; Design;Creativity</td>\n",
       "      <td>June 20, 2018</td>\n",
       "      <td>1.1</td>\n",
       "      <td>4.4 and up</td>\n",
       "    </tr>\n",
       "  </tbody>\n",
       "</table>\n",
       "</div>"
      ],
      "text/plain": [
       "                                                 App        Category  Rating  \\\n",
       "0     Photo Editor & Candy Camera & Grid & ScrapBook  ART_AND_DESIGN     4.1   \n",
       "1                                Coloring book moana  ART_AND_DESIGN     3.9   \n",
       "2  U Launcher Lite – FREE Live Cool Themes, Hide ...  ART_AND_DESIGN     4.7   \n",
       "3                              Sketch - Draw & Paint  ART_AND_DESIGN     4.5   \n",
       "4              Pixel Draw - Number Art Coloring Book  ART_AND_DESIGN     4.3   \n",
       "\n",
       "  Reviews     Size     Installs  Type Price Content Rating  \\\n",
       "0     159  19000.0      10,000+  Free     0       Everyone   \n",
       "1     967  14000.0     500,000+  Free     0       Everyone   \n",
       "2   87510   8700.0   5,000,000+  Free     0       Everyone   \n",
       "3  215644  25000.0  50,000,000+  Free     0           Teen   \n",
       "4     967   2800.0     100,000+  Free     0       Everyone   \n",
       "\n",
       "                      Genres      Last Updated         Current Ver  \\\n",
       "0               Art & Design   January 7, 2018               1.0.0   \n",
       "1  Art & Design;Pretend Play  January 15, 2018               2.0.0   \n",
       "2               Art & Design    August 1, 2018               1.2.4   \n",
       "3               Art & Design      June 8, 2018  Varies with device   \n",
       "4    Art & Design;Creativity     June 20, 2018                 1.1   \n",
       "\n",
       "    Android Ver  \n",
       "0  4.0.3 and up  \n",
       "1  4.0.3 and up  \n",
       "2  4.0.3 and up  \n",
       "3    4.2 and up  \n",
       "4    4.4 and up  "
      ]
     },
     "execution_count": 27,
     "metadata": {},
     "output_type": "execute_result"
    }
   ],
   "source": [
    "data.head()"
   ]
  },
  {
   "cell_type": "code",
   "execution_count": 28,
   "metadata": {},
   "outputs": [
    {
     "name": "stdout",
     "output_type": "stream",
     "text": [
      "<class 'pandas.core.frame.DataFrame'>\n",
      "RangeIndex: 10841 entries, 0 to 10840\n",
      "Data columns (total 13 columns):\n",
      " #   Column          Non-Null Count  Dtype  \n",
      "---  ------          --------------  -----  \n",
      " 0   App             10841 non-null  object \n",
      " 1   Category        10841 non-null  object \n",
      " 2   Rating          9367 non-null   float64\n",
      " 3   Reviews         10841 non-null  object \n",
      " 4   Size            10841 non-null  float64\n",
      " 5   Installs        10841 non-null  object \n",
      " 6   Type            10840 non-null  object \n",
      " 7   Price           10841 non-null  object \n",
      " 8   Content Rating  10840 non-null  object \n",
      " 9   Genres          10841 non-null  object \n",
      " 10  Last Updated    10841 non-null  object \n",
      " 11  Current Ver     10833 non-null  object \n",
      " 12  Android Ver     10838 non-null  object \n",
      "dtypes: float64(2), object(11)\n",
      "memory usage: 1.1+ MB\n"
     ]
    }
   ],
   "source": [
    "data.info()\n",
    "#to show the total number of non-null rows and their data types"
   ]
  },
  {
   "cell_type": "code",
   "execution_count": 29,
   "metadata": {},
   "outputs": [
    {
     "data": {
      "text/plain": [
       "App                  0\n",
       "Category             0\n",
       "Rating            1474\n",
       "Reviews              0\n",
       "Size                 0\n",
       "Installs             0\n",
       "Type                 1\n",
       "Price                0\n",
       "Content Rating       1\n",
       "Genres               0\n",
       "Last Updated         0\n",
       "Current Ver          8\n",
       "Android Ver          3\n",
       "dtype: int64"
      ]
     },
     "execution_count": 29,
     "metadata": {},
     "output_type": "execute_result"
    }
   ],
   "source": [
    "data.isnull().sum()\n",
    "#to show the number of null rows present"
   ]
  },
  {
   "cell_type": "markdown",
   "metadata": {},
   "source": [
    "# Task 1 Data Clean Up-Missing value treatment"
   ]
  },
  {
   "cell_type": "markdown",
   "metadata": {},
   "source": [
    "a.\tDrop records where rating is missing since rating is our target/study variable"
   ]
  },
  {
   "cell_type": "code",
   "execution_count": 30,
   "metadata": {},
   "outputs": [],
   "source": [
    "data.dropna(how='any', subset=['Rating'], axis=0, inplace = True)\n",
    "#when inplace = true the target data based on the condition will be dropped permenantly"
   ]
  },
  {
   "cell_type": "code",
   "execution_count": 31,
   "metadata": {},
   "outputs": [
    {
     "data": {
      "text/plain": [
       "0"
      ]
     },
     "execution_count": 31,
     "metadata": {},
     "output_type": "execute_result"
    }
   ],
   "source": [
    "data.Rating.isnull().sum()"
   ]
  },
  {
   "cell_type": "markdown",
   "metadata": {},
   "source": [
    "b.\tCheck the null values for the Android Ver column. "
   ]
  },
  {
   "cell_type": "markdown",
   "metadata": {},
   "source": [
    "i.\tAre all 3 records having the same problem?"
   ]
  },
  {
   "cell_type": "code",
   "execution_count": 32,
   "metadata": {},
   "outputs": [
    {
     "data": {
      "text/html": [
       "<div>\n",
       "<style scoped>\n",
       "    .dataframe tbody tr th:only-of-type {\n",
       "        vertical-align: middle;\n",
       "    }\n",
       "\n",
       "    .dataframe tbody tr th {\n",
       "        vertical-align: top;\n",
       "    }\n",
       "\n",
       "    .dataframe thead th {\n",
       "        text-align: right;\n",
       "    }\n",
       "</style>\n",
       "<table border=\"1\" class=\"dataframe\">\n",
       "  <thead>\n",
       "    <tr style=\"text-align: right;\">\n",
       "      <th></th>\n",
       "      <th>App</th>\n",
       "      <th>Category</th>\n",
       "      <th>Rating</th>\n",
       "      <th>Reviews</th>\n",
       "      <th>Size</th>\n",
       "      <th>Installs</th>\n",
       "      <th>Type</th>\n",
       "      <th>Price</th>\n",
       "      <th>Content Rating</th>\n",
       "      <th>Genres</th>\n",
       "      <th>Last Updated</th>\n",
       "      <th>Current Ver</th>\n",
       "      <th>Android Ver</th>\n",
       "    </tr>\n",
       "  </thead>\n",
       "  <tbody>\n",
       "    <tr>\n",
       "      <th>4453</th>\n",
       "      <td>[substratum] Vacuum: P</td>\n",
       "      <td>PERSONALIZATION</td>\n",
       "      <td>4.4</td>\n",
       "      <td>230</td>\n",
       "      <td>11000.000000</td>\n",
       "      <td>1,000+</td>\n",
       "      <td>Paid</td>\n",
       "      <td>$1.49</td>\n",
       "      <td>Everyone</td>\n",
       "      <td>Personalization</td>\n",
       "      <td>July 20, 2018</td>\n",
       "      <td>4.4</td>\n",
       "      <td>NaN</td>\n",
       "    </tr>\n",
       "    <tr>\n",
       "      <th>4490</th>\n",
       "      <td>Pi Dark [substratum]</td>\n",
       "      <td>PERSONALIZATION</td>\n",
       "      <td>4.5</td>\n",
       "      <td>189</td>\n",
       "      <td>2100.000000</td>\n",
       "      <td>10,000+</td>\n",
       "      <td>Free</td>\n",
       "      <td>0</td>\n",
       "      <td>Everyone</td>\n",
       "      <td>Personalization</td>\n",
       "      <td>March 27, 2018</td>\n",
       "      <td>1.1</td>\n",
       "      <td>NaN</td>\n",
       "    </tr>\n",
       "    <tr>\n",
       "      <th>10472</th>\n",
       "      <td>Life Made WI-Fi Touchscreen Photo Frame</td>\n",
       "      <td>1.9</td>\n",
       "      <td>19.0</td>\n",
       "      <td>3.0M</td>\n",
       "      <td>21516.529524</td>\n",
       "      <td>Free</td>\n",
       "      <td>0</td>\n",
       "      <td>Everyone</td>\n",
       "      <td>NaN</td>\n",
       "      <td>February 11, 2018</td>\n",
       "      <td>1.0.19</td>\n",
       "      <td>4.0 and up</td>\n",
       "      <td>NaN</td>\n",
       "    </tr>\n",
       "  </tbody>\n",
       "</table>\n",
       "</div>"
      ],
      "text/plain": [
       "                                           App         Category  Rating  \\\n",
       "4453                    [substratum] Vacuum: P  PERSONALIZATION     4.4   \n",
       "4490                      Pi Dark [substratum]  PERSONALIZATION     4.5   \n",
       "10472  Life Made WI-Fi Touchscreen Photo Frame              1.9    19.0   \n",
       "\n",
       "      Reviews          Size Installs  Type     Price Content Rating  \\\n",
       "4453      230  11000.000000   1,000+  Paid     $1.49       Everyone   \n",
       "4490      189   2100.000000  10,000+  Free         0       Everyone   \n",
       "10472    3.0M  21516.529524     Free     0  Everyone            NaN   \n",
       "\n",
       "                  Genres    Last Updated Current Ver Android Ver  \n",
       "4453     Personalization   July 20, 2018         4.4         NaN  \n",
       "4490     Personalization  March 27, 2018         1.1         NaN  \n",
       "10472  February 11, 2018          1.0.19  4.0 and up         NaN  "
      ]
     },
     "execution_count": 32,
     "metadata": {},
     "output_type": "execute_result"
    }
   ],
   "source": [
    "data.loc[data['Android Ver'].isnull()]\n"
   ]
  },
  {
   "cell_type": "raw",
   "metadata": {},
   "source": [
    "Yes, all 3 records are having same problem ie all are NaN"
   ]
  },
  {
   "cell_type": "markdown",
   "metadata": {},
   "source": [
    "ii.\tDrop the 3rd record i.e. record for “Life Made WIFI …”"
   ]
  },
  {
   "cell_type": "code",
   "execution_count": 33,
   "metadata": {},
   "outputs": [],
   "source": [
    "data.drop([10472], inplace = True)\n",
    "#when inplace = true the target data based on the condition will be dropped permenantly"
   ]
  },
  {
   "cell_type": "code",
   "execution_count": 34,
   "metadata": {},
   "outputs": [
    {
     "data": {
      "text/html": [
       "<div>\n",
       "<style scoped>\n",
       "    .dataframe tbody tr th:only-of-type {\n",
       "        vertical-align: middle;\n",
       "    }\n",
       "\n",
       "    .dataframe tbody tr th {\n",
       "        vertical-align: top;\n",
       "    }\n",
       "\n",
       "    .dataframe thead th {\n",
       "        text-align: right;\n",
       "    }\n",
       "</style>\n",
       "<table border=\"1\" class=\"dataframe\">\n",
       "  <thead>\n",
       "    <tr style=\"text-align: right;\">\n",
       "      <th></th>\n",
       "      <th>App</th>\n",
       "      <th>Category</th>\n",
       "      <th>Rating</th>\n",
       "      <th>Reviews</th>\n",
       "      <th>Size</th>\n",
       "      <th>Installs</th>\n",
       "      <th>Type</th>\n",
       "      <th>Price</th>\n",
       "      <th>Content Rating</th>\n",
       "      <th>Genres</th>\n",
       "      <th>Last Updated</th>\n",
       "      <th>Current Ver</th>\n",
       "      <th>Android Ver</th>\n",
       "    </tr>\n",
       "  </thead>\n",
       "  <tbody>\n",
       "    <tr>\n",
       "      <th>4453</th>\n",
       "      <td>[substratum] Vacuum: P</td>\n",
       "      <td>PERSONALIZATION</td>\n",
       "      <td>4.4</td>\n",
       "      <td>230</td>\n",
       "      <td>11000.0</td>\n",
       "      <td>1,000+</td>\n",
       "      <td>Paid</td>\n",
       "      <td>$1.49</td>\n",
       "      <td>Everyone</td>\n",
       "      <td>Personalization</td>\n",
       "      <td>July 20, 2018</td>\n",
       "      <td>4.4</td>\n",
       "      <td>NaN</td>\n",
       "    </tr>\n",
       "    <tr>\n",
       "      <th>4490</th>\n",
       "      <td>Pi Dark [substratum]</td>\n",
       "      <td>PERSONALIZATION</td>\n",
       "      <td>4.5</td>\n",
       "      <td>189</td>\n",
       "      <td>2100.0</td>\n",
       "      <td>10,000+</td>\n",
       "      <td>Free</td>\n",
       "      <td>0</td>\n",
       "      <td>Everyone</td>\n",
       "      <td>Personalization</td>\n",
       "      <td>March 27, 2018</td>\n",
       "      <td>1.1</td>\n",
       "      <td>NaN</td>\n",
       "    </tr>\n",
       "  </tbody>\n",
       "</table>\n",
       "</div>"
      ],
      "text/plain": [
       "                         App         Category  Rating Reviews     Size  \\\n",
       "4453  [substratum] Vacuum: P  PERSONALIZATION     4.4     230  11000.0   \n",
       "4490    Pi Dark [substratum]  PERSONALIZATION     4.5     189   2100.0   \n",
       "\n",
       "     Installs  Type  Price Content Rating           Genres    Last Updated  \\\n",
       "4453   1,000+  Paid  $1.49       Everyone  Personalization   July 20, 2018   \n",
       "4490  10,000+  Free      0       Everyone  Personalization  March 27, 2018   \n",
       "\n",
       "     Current Ver Android Ver  \n",
       "4453         4.4         NaN  \n",
       "4490         1.1         NaN  "
      ]
     },
     "execution_count": 34,
     "metadata": {},
     "output_type": "execute_result"
    }
   ],
   "source": [
    "data.loc[data['Android Ver'].isnull()]"
   ]
  },
  {
   "cell_type": "markdown",
   "metadata": {},
   "source": [
    "iii.\tReplace remaining missing values with the mode"
   ]
  },
  {
   "cell_type": "code",
   "execution_count": 35,
   "metadata": {},
   "outputs": [],
   "source": [
    "data['Android Ver'].fillna(data['Android Ver'].mode()[0], inplace=True)\n",
    "#mode is used in such a way it fills the missing dat with the most frequent values"
   ]
  },
  {
   "cell_type": "markdown",
   "metadata": {},
   "source": [
    "c. Current ver – replace with most common value"
   ]
  },
  {
   "cell_type": "code",
   "execution_count": 36,
   "metadata": {},
   "outputs": [],
   "source": [
    "data['Current Ver'].fillna(data['Current Ver'].mode()[0], inplace=True)"
   ]
  },
  {
   "cell_type": "markdown",
   "metadata": {},
   "source": [
    "# Task: 2. Data clean up – correcting the data types"
   ]
  },
  {
   "cell_type": "markdown",
   "metadata": {},
   "source": [
    "a. Which all variables need to be brought to numeric types?"
   ]
  },
  {
   "cell_type": "raw",
   "metadata": {},
   "source": [
    "Reviews and installs need to be brought to numeric types."
   ]
  },
  {
   "cell_type": "markdown",
   "metadata": {},
   "source": [
    "b. Price variable – remove $ sign and convert to float"
   ]
  },
  {
   "cell_type": "code",
   "execution_count": 37,
   "metadata": {},
   "outputs": [],
   "source": [
    "#to remove $ sign\n",
    "price = []\n",
    "for i in data['Price']:\n",
    "    if i[0]=='$':\n",
    "        price.append(i[1:])\n",
    "    else:\n",
    "        price.append(i) "
   ]
  },
  {
   "cell_type": "code",
   "execution_count": 38,
   "metadata": {},
   "outputs": [],
   "source": [
    "# convert to float\n",
    "data.drop(labels=data[data['Price']=='Everyone'].index, inplace = True)\n",
    "data['Price']= price\n",
    "data['Price']= data['Price'].astype('float')"
   ]
  },
  {
   "cell_type": "markdown",
   "metadata": {},
   "source": [
    "c. Installs – remove ‘,’ and ‘+’ sign, convert to integer"
   ]
  },
  {
   "cell_type": "code",
   "execution_count": 39,
   "metadata": {},
   "outputs": [],
   "source": [
    "install = [] #array declaration\n",
    "for j in data['Installs']:\n",
    "    install.append(j.replace(',','').replace('+','').strip())\n",
    "\n",
    "data['Installs']= install\n",
    "data['Installs']= data['Installs'].astype('int') #typecasting\n"
   ]
  },
  {
   "cell_type": "markdown",
   "metadata": {},
   "source": [
    "d. Convert all other identified columns to numeric"
   ]
  },
  {
   "cell_type": "code",
   "execution_count": 40,
   "metadata": {},
   "outputs": [],
   "source": [
    "data['Reviews']=data['Reviews'].astype('int')"
   ]
  },
  {
   "cell_type": "markdown",
   "metadata": {},
   "source": [
    "# Task 3. Sanity checks – check for the following and handle accordingly"
   ]
  },
  {
   "cell_type": "markdown",
   "metadata": {},
   "source": [
    "a. Avg. rating should be between 1 and 5, as only these values are allowed on the play store"
   ]
  },
  {
   "cell_type": "markdown",
   "metadata": {},
   "source": [
    "i. Are there any such records? Drop if so"
   ]
  },
  {
   "cell_type": "code",
   "execution_count": 41,
   "metadata": {},
   "outputs": [
    {
     "data": {
      "text/html": [
       "<div>\n",
       "<style scoped>\n",
       "    .dataframe tbody tr th:only-of-type {\n",
       "        vertical-align: middle;\n",
       "    }\n",
       "\n",
       "    .dataframe tbody tr th {\n",
       "        vertical-align: top;\n",
       "    }\n",
       "\n",
       "    .dataframe thead th {\n",
       "        text-align: right;\n",
       "    }\n",
       "</style>\n",
       "<table border=\"1\" class=\"dataframe\">\n",
       "  <thead>\n",
       "    <tr style=\"text-align: right;\">\n",
       "      <th></th>\n",
       "      <th>App</th>\n",
       "      <th>Category</th>\n",
       "      <th>Rating</th>\n",
       "      <th>Reviews</th>\n",
       "      <th>Size</th>\n",
       "      <th>Installs</th>\n",
       "      <th>Type</th>\n",
       "      <th>Price</th>\n",
       "      <th>Content Rating</th>\n",
       "      <th>Genres</th>\n",
       "      <th>Last Updated</th>\n",
       "      <th>Current Ver</th>\n",
       "      <th>Android Ver</th>\n",
       "    </tr>\n",
       "  </thead>\n",
       "  <tbody>\n",
       "  </tbody>\n",
       "</table>\n",
       "</div>"
      ],
      "text/plain": [
       "Empty DataFrame\n",
       "Columns: [App, Category, Rating, Reviews, Size, Installs, Type, Price, Content Rating, Genres, Last Updated, Current Ver, Android Ver]\n",
       "Index: []"
      ]
     },
     "execution_count": 41,
     "metadata": {},
     "output_type": "execute_result"
    }
   ],
   "source": [
    "data.loc[data.Rating < 1] & data.loc[data.Rating > 5]"
   ]
  },
  {
   "cell_type": "raw",
   "metadata": {},
   "source": [
    "There are no such records with rating less than 1 or greater than 5."
   ]
  },
  {
   "cell_type": "markdown",
   "metadata": {},
   "source": [
    "b. Reviews should not be more than installs as only those who installed can review the app."
   ]
  },
  {
   "cell_type": "markdown",
   "metadata": {},
   "source": [
    "i. Are there any such records? Drop if so."
   ]
  },
  {
   "cell_type": "raw",
   "metadata": {},
   "source": [
    "Yes, there are 7 records where Review is greater than Installs."
   ]
  },
  {
   "cell_type": "code",
   "execution_count": 42,
   "metadata": {},
   "outputs": [
    {
     "data": {
      "text/html": [
       "<div>\n",
       "<style scoped>\n",
       "    .dataframe tbody tr th:only-of-type {\n",
       "        vertical-align: middle;\n",
       "    }\n",
       "\n",
       "    .dataframe tbody tr th {\n",
       "        vertical-align: top;\n",
       "    }\n",
       "\n",
       "    .dataframe thead th {\n",
       "        text-align: right;\n",
       "    }\n",
       "</style>\n",
       "<table border=\"1\" class=\"dataframe\">\n",
       "  <thead>\n",
       "    <tr style=\"text-align: right;\">\n",
       "      <th></th>\n",
       "      <th>App</th>\n",
       "      <th>Category</th>\n",
       "      <th>Rating</th>\n",
       "      <th>Reviews</th>\n",
       "      <th>Size</th>\n",
       "      <th>Installs</th>\n",
       "      <th>Type</th>\n",
       "      <th>Price</th>\n",
       "      <th>Content Rating</th>\n",
       "      <th>Genres</th>\n",
       "      <th>Last Updated</th>\n",
       "      <th>Current Ver</th>\n",
       "      <th>Android Ver</th>\n",
       "    </tr>\n",
       "  </thead>\n",
       "  <tbody>\n",
       "    <tr>\n",
       "      <th>2454</th>\n",
       "      <td>KBA-EZ Health Guide</td>\n",
       "      <td>MEDICAL</td>\n",
       "      <td>5.0</td>\n",
       "      <td>4</td>\n",
       "      <td>25000.000000</td>\n",
       "      <td>1</td>\n",
       "      <td>Free</td>\n",
       "      <td>0.00</td>\n",
       "      <td>Everyone</td>\n",
       "      <td>Medical</td>\n",
       "      <td>August 2, 2018</td>\n",
       "      <td>1.0.72</td>\n",
       "      <td>4.0.3 and up</td>\n",
       "    </tr>\n",
       "    <tr>\n",
       "      <th>4663</th>\n",
       "      <td>Alarmy (Sleep If U Can) - Pro</td>\n",
       "      <td>LIFESTYLE</td>\n",
       "      <td>4.8</td>\n",
       "      <td>10249</td>\n",
       "      <td>21516.529524</td>\n",
       "      <td>10000</td>\n",
       "      <td>Paid</td>\n",
       "      <td>2.49</td>\n",
       "      <td>Everyone</td>\n",
       "      <td>Lifestyle</td>\n",
       "      <td>July 30, 2018</td>\n",
       "      <td>Varies with device</td>\n",
       "      <td>Varies with device</td>\n",
       "    </tr>\n",
       "    <tr>\n",
       "      <th>5917</th>\n",
       "      <td>Ra Ga Ba</td>\n",
       "      <td>GAME</td>\n",
       "      <td>5.0</td>\n",
       "      <td>2</td>\n",
       "      <td>20000.000000</td>\n",
       "      <td>1</td>\n",
       "      <td>Paid</td>\n",
       "      <td>1.49</td>\n",
       "      <td>Everyone</td>\n",
       "      <td>Arcade</td>\n",
       "      <td>February 8, 2017</td>\n",
       "      <td>1.0.4</td>\n",
       "      <td>2.3 and up</td>\n",
       "    </tr>\n",
       "    <tr>\n",
       "      <th>6700</th>\n",
       "      <td>Brick Breaker BR</td>\n",
       "      <td>GAME</td>\n",
       "      <td>5.0</td>\n",
       "      <td>7</td>\n",
       "      <td>19000.000000</td>\n",
       "      <td>5</td>\n",
       "      <td>Free</td>\n",
       "      <td>0.00</td>\n",
       "      <td>Everyone</td>\n",
       "      <td>Arcade</td>\n",
       "      <td>July 23, 2018</td>\n",
       "      <td>1.0</td>\n",
       "      <td>4.1 and up</td>\n",
       "    </tr>\n",
       "    <tr>\n",
       "      <th>7402</th>\n",
       "      <td>Trovami se ci riesci</td>\n",
       "      <td>GAME</td>\n",
       "      <td>5.0</td>\n",
       "      <td>11</td>\n",
       "      <td>6100.000000</td>\n",
       "      <td>10</td>\n",
       "      <td>Free</td>\n",
       "      <td>0.00</td>\n",
       "      <td>Everyone</td>\n",
       "      <td>Arcade</td>\n",
       "      <td>March 11, 2017</td>\n",
       "      <td>0.1</td>\n",
       "      <td>2.3 and up</td>\n",
       "    </tr>\n",
       "    <tr>\n",
       "      <th>8591</th>\n",
       "      <td>DN Blog</td>\n",
       "      <td>SOCIAL</td>\n",
       "      <td>5.0</td>\n",
       "      <td>20</td>\n",
       "      <td>4200.000000</td>\n",
       "      <td>10</td>\n",
       "      <td>Free</td>\n",
       "      <td>0.00</td>\n",
       "      <td>Teen</td>\n",
       "      <td>Social</td>\n",
       "      <td>July 23, 2018</td>\n",
       "      <td>1.0</td>\n",
       "      <td>4.0 and up</td>\n",
       "    </tr>\n",
       "    <tr>\n",
       "      <th>10697</th>\n",
       "      <td>Mu.F.O.</td>\n",
       "      <td>GAME</td>\n",
       "      <td>5.0</td>\n",
       "      <td>2</td>\n",
       "      <td>16000.000000</td>\n",
       "      <td>1</td>\n",
       "      <td>Paid</td>\n",
       "      <td>0.99</td>\n",
       "      <td>Everyone</td>\n",
       "      <td>Arcade</td>\n",
       "      <td>March 3, 2017</td>\n",
       "      <td>1.0</td>\n",
       "      <td>2.3 and up</td>\n",
       "    </tr>\n",
       "  </tbody>\n",
       "</table>\n",
       "</div>"
      ],
      "text/plain": [
       "                                 App   Category  Rating  Reviews  \\\n",
       "2454             KBA-EZ Health Guide    MEDICAL     5.0        4   \n",
       "4663   Alarmy (Sleep If U Can) - Pro  LIFESTYLE     4.8    10249   \n",
       "5917                        Ra Ga Ba       GAME     5.0        2   \n",
       "6700                Brick Breaker BR       GAME     5.0        7   \n",
       "7402            Trovami se ci riesci       GAME     5.0       11   \n",
       "8591                         DN Blog     SOCIAL     5.0       20   \n",
       "10697                        Mu.F.O.       GAME     5.0        2   \n",
       "\n",
       "               Size  Installs  Type  Price Content Rating     Genres  \\\n",
       "2454   25000.000000         1  Free   0.00       Everyone    Medical   \n",
       "4663   21516.529524     10000  Paid   2.49       Everyone  Lifestyle   \n",
       "5917   20000.000000         1  Paid   1.49       Everyone     Arcade   \n",
       "6700   19000.000000         5  Free   0.00       Everyone     Arcade   \n",
       "7402    6100.000000        10  Free   0.00       Everyone     Arcade   \n",
       "8591    4200.000000        10  Free   0.00           Teen     Social   \n",
       "10697  16000.000000         1  Paid   0.99       Everyone     Arcade   \n",
       "\n",
       "           Last Updated         Current Ver         Android Ver  \n",
       "2454     August 2, 2018              1.0.72        4.0.3 and up  \n",
       "4663      July 30, 2018  Varies with device  Varies with device  \n",
       "5917   February 8, 2017               1.0.4          2.3 and up  \n",
       "6700      July 23, 2018                 1.0          4.1 and up  \n",
       "7402     March 11, 2017                 0.1          2.3 and up  \n",
       "8591      July 23, 2018                 1.0          4.0 and up  \n",
       "10697     March 3, 2017                 1.0          2.3 and up  "
      ]
     },
     "execution_count": 42,
     "metadata": {},
     "output_type": "execute_result"
    }
   ],
   "source": [
    "data.loc[data['Reviews'] > data['Installs']]"
   ]
  },
  {
   "cell_type": "code",
   "execution_count": 48,
   "metadata": {},
   "outputs": [],
   "source": [
    "records_7 = data[data['Reviews']>data['Installs']].index\n",
    "data.drop(labels=records_7, inplace=True)\n",
    "#when inplace = true the target data based on the condition will be dropped permenantly"
   ]
  },
  {
   "cell_type": "code",
   "execution_count": 49,
   "metadata": {},
   "outputs": [
    {
     "data": {
      "text/html": [
       "<div>\n",
       "<style scoped>\n",
       "    .dataframe tbody tr th:only-of-type {\n",
       "        vertical-align: middle;\n",
       "    }\n",
       "\n",
       "    .dataframe tbody tr th {\n",
       "        vertical-align: top;\n",
       "    }\n",
       "\n",
       "    .dataframe thead th {\n",
       "        text-align: right;\n",
       "    }\n",
       "</style>\n",
       "<table border=\"1\" class=\"dataframe\">\n",
       "  <thead>\n",
       "    <tr style=\"text-align: right;\">\n",
       "      <th></th>\n",
       "      <th>App</th>\n",
       "      <th>Category</th>\n",
       "      <th>Rating</th>\n",
       "      <th>Reviews</th>\n",
       "      <th>Size</th>\n",
       "      <th>Installs</th>\n",
       "      <th>Type</th>\n",
       "      <th>Price</th>\n",
       "      <th>Content Rating</th>\n",
       "      <th>Genres</th>\n",
       "      <th>Last Updated</th>\n",
       "      <th>Current Ver</th>\n",
       "      <th>Android Ver</th>\n",
       "    </tr>\n",
       "  </thead>\n",
       "  <tbody>\n",
       "  </tbody>\n",
       "</table>\n",
       "</div>"
      ],
      "text/plain": [
       "Empty DataFrame\n",
       "Columns: [App, Category, Rating, Reviews, Size, Installs, Type, Price, Content Rating, Genres, Last Updated, Current Ver, Android Ver]\n",
       "Index: []"
      ]
     },
     "execution_count": 49,
     "metadata": {},
     "output_type": "execute_result"
    }
   ],
   "source": [
    "data.loc[data['Reviews'] > data['Installs']]"
   ]
  },
  {
   "cell_type": "markdown",
   "metadata": {},
   "source": [
    "# Task 4. Identify and handle outliers"
   ]
  },
  {
   "cell_type": "markdown",
   "metadata": {},
   "source": [
    "a. Price column"
   ]
  },
  {
   "cell_type": "markdown",
   "metadata": {},
   "source": [
    "i. Make suitable plot to identify outliers in price"
   ]
  },
  {
   "cell_type": "code",
   "execution_count": 50,
   "metadata": {},
   "outputs": [
    {
     "data": {
      "image/png": "[encoded data removed]",
      "text/plain": [
       "<Figure size 432x288 with 1 Axes>"
      ]
     },
     "metadata": {
      "needs_background": "light"
     },
     "output_type": "display_data"
    }
   ],
   "source": [
    "plt.boxplot(data['Price'])\n",
    "plt.show()"
   ]
  },
  {
   "cell_type": "markdown",
   "metadata": {},
   "source": [
    "ii.Do you expect apps on the play store to cost $200? Check out these cases"
   ]
  },
  {
   "cell_type": "code",
   "execution_count": 51,
   "metadata": {},
   "outputs": [
    {
     "name": "stdout",
     "output_type": "stream",
     "text": [
      "Yes we do expect apps on the play store to cost $200\n"
     ]
    },
    {
     "data": {
      "text/html": [
       "<div>\n",
       "<style scoped>\n",
       "    .dataframe tbody tr th:only-of-type {\n",
       "        vertical-align: middle;\n",
       "    }\n",
       "\n",
       "    .dataframe tbody tr th {\n",
       "        vertical-align: top;\n",
       "    }\n",
       "\n",
       "    .dataframe thead th {\n",
       "        text-align: right;\n",
       "    }\n",
       "</style>\n",
       "<table border=\"1\" class=\"dataframe\">\n",
       "  <thead>\n",
       "    <tr style=\"text-align: right;\">\n",
       "      <th></th>\n",
       "      <th>App</th>\n",
       "      <th>Category</th>\n",
       "      <th>Rating</th>\n",
       "      <th>Reviews</th>\n",
       "      <th>Size</th>\n",
       "      <th>Installs</th>\n",
       "      <th>Type</th>\n",
       "      <th>Price</th>\n",
       "      <th>Content Rating</th>\n",
       "      <th>Genres</th>\n",
       "      <th>Last Updated</th>\n",
       "      <th>Current Ver</th>\n",
       "      <th>Android Ver</th>\n",
       "    </tr>\n",
       "  </thead>\n",
       "  <tbody>\n",
       "  </tbody>\n",
       "</table>\n",
       "</div>"
      ],
      "text/plain": [
       "Empty DataFrame\n",
       "Columns: [App, Category, Rating, Reviews, Size, Installs, Type, Price, Content Rating, Genres, Last Updated, Current Ver, Android Ver]\n",
       "Index: []"
      ]
     },
     "execution_count": 51,
     "metadata": {},
     "output_type": "execute_result"
    }
   ],
   "source": [
    "print('Yes we do expect apps on the play store to cost $200')\n",
    "data.loc[data['Price'] > 200]"
   ]
  },
  {
   "cell_type": "markdown",
   "metadata": {},
   "source": [
    "iv. Limit data to records with price < $30"
   ]
  },
  {
   "cell_type": "code",
   "execution_count": 54,
   "metadata": {},
   "outputs": [],
   "source": [
    "records_30 = data[data['Price'] > 30].index\n",
    "data.drop(labels=records_30, inplace=True)\n",
    "#when inplace = true the target data based on the condition will be dropped permenantly"
   ]
  },
  {
   "cell_type": "code",
   "execution_count": 55,
   "metadata": {},
   "outputs": [
    {
     "data": {
      "text/plain": [
       "0"
      ]
     },
     "execution_count": 55,
     "metadata": {},
     "output_type": "execute_result"
    }
   ],
   "source": [
    "count = data.loc[data['Price'] > 30].index\n",
    "count.value_counts().sum()"
   ]
  },
  {
   "cell_type": "markdown",
   "metadata": {},
   "source": [
    "iii. After dropping the useless records, make the suitable plot again to identify outliers"
   ]
  },
  {
   "cell_type": "code",
   "execution_count": 56,
   "metadata": {},
   "outputs": [
    {
     "data": {
      "image/png": "[encoded data removed]",
      "text/plain": [
       "<Figure size 432x288 with 1 Axes>"
      ]
     },
     "metadata": {
      "needs_background": "light"
     },
     "output_type": "display_data"
    }
   ],
   "source": [
    "plt.boxplot(data['Price'])\n",
    "plt.show()"
   ]
  },
  {
   "cell_type": "markdown",
   "metadata": {},
   "source": [
    "b. Reviews column"
   ]
  },
  {
   "cell_type": "markdown",
   "metadata": {},
   "source": [
    "i. Make suitable plot"
   ]
  },
  {
   "cell_type": "code",
   "execution_count": 57,
   "metadata": {},
   "outputs": [
    {
     "data": {
      "image/png": "[encoded data removed]",
      "text/plain": [
       "<Figure size 432x288 with 1 Axes>"
      ]
     },
     "metadata": {
      "needs_background": "light"
     },
     "output_type": "display_data"
    }
   ],
   "source": [
    "sns.distplot(data['Reviews'])\n",
    "plt.show()"
   ]
  },
  {
   "cell_type": "markdown",
   "metadata": {},
   "source": [
    "ii. Limit data to apps with < 1 Million reviews"
   ]
  },
  {
   "cell_type": "code",
   "execution_count": 68,
   "metadata": {},
   "outputs": [
    {
     "name": "stdout",
     "output_type": "stream",
     "text": [
      "0 cols dropped\n"
     ]
    }
   ],
   "source": [
    "reviews_1m = data[data['Reviews'] > 1000000 ].index\n",
    "data.drop(labels = reviews_1m, inplace=True)\n",
    "print(reviews_1m.value_counts().sum(),'cols dropped')\n",
    "#when inplace = true the target data based on the condition will be dropped permenantly"
   ]
  },
  {
   "cell_type": "markdown",
   "metadata": {},
   "source": [
    "c. Installs"
   ]
  },
  {
   "cell_type": "markdown",
   "metadata": {},
   "source": [
    "i. What is the 95th percentile of the installs?"
   ]
  },
  {
   "cell_type": "code",
   "execution_count": 69,
   "metadata": {},
   "outputs": [
    {
     "name": "stdout",
     "output_type": "stream",
     "text": [
      "10000000.0 is the 95th percentile of Installs\n"
     ]
    }
   ],
   "source": [
    "percentile = data.Installs.quantile(0.95) #95th Percentile of Installs\n",
    "print(percentile,\"is the 95th percentile of Installs\")"
   ]
  },
  {
   "cell_type": "markdown",
   "metadata": {},
   "source": [
    "ii.Drop records having a value more than the 95th percentile"
   ]
  },
  {
   "cell_type": "code",
   "execution_count": 70,
   "metadata": {},
   "outputs": [
    {
     "name": "stdout",
     "output_type": "stream",
     "text": [
      " The 0 percentile of installs is 5.0 \n",
      " The 1 percentile of installs is 50.0 \n",
      " The 2 percentile of installs is 100.0 \n",
      " The 3 percentile of installs is 100.0 \n",
      " The 4 percentile of installs is 100.0 \n",
      " The 5 percentile of installs is 100.0 \n",
      " The 6 percentile of installs is 500.0 \n",
      " The 7 percentile of installs is 500.0 \n",
      " The 8 percentile of installs is 1000.0 \n",
      " The 9 percentile of installs is 1000.0 \n",
      " The 10 percentile of installs is 1000.0 \n",
      " The 11 percentile of installs is 1000.0 \n",
      " The 12 percentile of installs is 1000.0 \n",
      " The 13 percentile of installs is 1000.0 \n",
      " The 14 percentile of installs is 1000.0 \n",
      " The 15 percentile of installs is 1000.0 \n",
      " The 16 percentile of installs is 5000.0 \n",
      " The 17 percentile of installs is 5000.0 \n",
      " The 18 percentile of installs is 5000.0 \n",
      " The 19 percentile of installs is 5000.0 \n",
      " The 20 percentile of installs is 5000.0 \n",
      " The 21 percentile of installs is 5699.999999999363 \n",
      " The 22 percentile of installs is 10000.0 \n",
      " The 23 percentile of installs is 10000.0 \n",
      " The 24 percentile of installs is 10000.0 \n",
      " The 25 percentile of installs is 10000.0 \n",
      " The 26 percentile of installs is 10000.0 \n",
      " The 27 percentile of installs is 10000.0 \n",
      " The 28 percentile of installs is 10000.0 \n",
      " The 29 percentile of installs is 10000.0 \n",
      " The 30 percentile of installs is 10000.0 \n",
      " The 31 percentile of installs is 10000.0 \n",
      " The 32 percentile of installs is 10000.0 \n",
      " The 33 percentile of installs is 50000.0 \n",
      " The 34 percentile of installs is 50000.0 \n",
      " The 35 percentile of installs is 50000.0 \n",
      " The 36 percentile of installs is 50000.0 \n",
      " The 37 percentile of installs is 50000.0 \n",
      " The 38 percentile of installs is 50000.0 \n",
      " The 39 percentile of installs is 100000.0 \n",
      " The 40 percentile of installs is 100000.0 \n",
      " The 41 percentile of installs is 100000.0 \n",
      " The 42 percentile of installs is 100000.0 \n",
      " The 43 percentile of installs is 100000.0 \n",
      " The 44 percentile of installs is 100000.0 \n",
      " The 45 percentile of installs is 100000.0 \n",
      " The 46 percentile of installs is 100000.0 \n",
      " The 47 percentile of installs is 100000.0 \n",
      " The 48 percentile of installs is 100000.0 \n",
      " The 49 percentile of installs is 100000.0 \n",
      " The 50 percentile of installs is 100000.0 \n",
      " The 51 percentile of installs is 100000.0 \n",
      " The 52 percentile of installs is 100000.0 \n",
      " The 53 percentile of installs is 500000.0 \n",
      " The 54 percentile of installs is 500000.0 \n",
      " The 55 percentile of installs is 500000.0 \n",
      " The 56 percentile of installs is 500000.0 \n",
      " The 57 percentile of installs is 500000.0 \n",
      " The 58 percentile of installs is 500000.0 \n",
      " The 59 percentile of installs is 1000000.0 \n",
      " The 60 percentile of installs is 1000000.0 \n",
      " The 61 percentile of installs is 1000000.0 \n",
      " The 62 percentile of installs is 1000000.0 \n",
      " The 63 percentile of installs is 1000000.0 \n",
      " The 64 percentile of installs is 1000000.0 \n",
      " The 65 percentile of installs is 1000000.0 \n",
      " The 66 percentile of installs is 1000000.0 \n",
      " The 67 percentile of installs is 1000000.0 \n",
      " The 68 percentile of installs is 1000000.0 \n",
      " The 69 percentile of installs is 1000000.0 \n",
      " The 70 percentile of installs is 1000000.0 \n",
      " The 71 percentile of installs is 1000000.0 \n",
      " The 72 percentile of installs is 1000000.0 \n",
      " The 73 percentile of installs is 1000000.0 \n",
      " The 74 percentile of installs is 1000000.0 \n",
      " The 75 percentile of installs is 1000000.0 \n",
      " The 76 percentile of installs is 1000000.0 \n",
      " The 77 percentile of installs is 1000000.0 \n",
      " The 78 percentile of installs is 5000000.0 \n",
      " The 79 percentile of installs is 5000000.0 \n",
      " The 80 percentile of installs is 5000000.0 \n",
      " The 81 percentile of installs is 5000000.0 \n",
      " The 82 percentile of installs is 5000000.0 \n",
      " The 83 percentile of installs is 5000000.0 \n",
      " The 84 percentile of installs is 5000000.0 \n",
      " The 85 percentile of installs is 5000000.0 \n",
      " The 86 percentile of installs is 5000000.0 \n",
      " The 87 percentile of installs is 10000000.0 \n",
      " The 88 percentile of installs is 10000000.0 \n",
      " The 89 percentile of installs is 10000000.0 \n",
      " The 90 percentile of installs is 10000000.0 \n",
      " The 91 percentile of installs is 10000000.0 \n",
      " The 92 percentile of installs is 10000000.0 \n",
      " The 93 percentile of installs is 10000000.0 \n",
      " The 94 percentile of installs is 10000000.0 \n",
      " The 95 percentile of installs is 10000000.0 \n",
      " The 96 percentile of installs is 10000000.0 \n",
      " The 97 percentile of installs is 10000000.0 \n",
      " The 98 percentile of installs is 10000000.0 \n",
      " The 99 percentile of installs is 10000000.0 \n",
      " The 100 percentile of installs is 10000000.0 \n"
     ]
    }
   ],
   "source": [
    "for i in range(0,101,1):\n",
    "    print(' The {} percentile of installs is {} '.format(i,np.percentile(data['Installs'],i)))\n",
    "    #format returns the formatted string and {} acts as a place holder for the string"
   ]
  },
  {
   "cell_type": "code",
   "execution_count": 73,
   "metadata": {},
   "outputs": [
    {
     "name": "stdout",
     "output_type": "stream",
     "text": [
      "0\n"
     ]
    }
   ],
   "source": [
    "col_drop = data[data[\"Installs\"] > percentile].index\n",
    "data.drop(labels = col_drop, inplace = True)\n",
    "print(col_drop.value_counts().sum())#,'cols dropped')\n",
    "#when inplace = true the target data based on the condition will be dropped permenantly"
   ]
  },
  {
   "cell_type": "markdown",
   "metadata": {},
   "source": [
    "# Task 5. What is the distribution of ratings like? (use Seaborn) More skewed towards higher/lower values?"
   ]
  },
  {
   "cell_type": "markdown",
   "metadata": {},
   "source": [
    "a. How do you explain this?"
   ]
  },
  {
   "cell_type": "code",
   "execution_count": 74,
   "metadata": {},
   "outputs": [
    {
     "data": {
      "image/png": "[encoded data removed]",
      "text/plain": [
       "<Figure size 432x288 with 1 Axes>"
      ]
     },
     "metadata": {
      "needs_background": "light"
     },
     "output_type": "display_data"
    },
    {
     "name": "stdout",
     "output_type": "stream",
     "text": [
      "The skewness of this distribution is -1.7434270330647985\n",
      "The Median of this distribution 4.3 is greater than mean 4.170800237107298 of this distribution\n"
     ]
    }
   ],
   "source": [
    "sns.distplot(data['Rating'])\n",
    "plt.show()\n",
    "print('The skewness of this distribution is',data['Rating'].skew())\n",
    "print('The Median of this distribution {} is greater than mean {} of this distribution'.format(data.Rating.median(),data.Rating.mean()))"
   ]
  },
  {
   "cell_type": "markdown",
   "metadata": {},
   "source": [
    "b. What is the implication of this on your analysis?"
   ]
  },
  {
   "cell_type": "code",
   "execution_count": 75,
   "metadata": {},
   "outputs": [
    {
     "data": {
      "text/plain": [
       "0    4.3\n",
       "dtype: float64"
      ]
     },
     "execution_count": 75,
     "metadata": {},
     "output_type": "execute_result"
    }
   ],
   "source": [
    "data['Rating'].mode()"
   ]
  },
  {
   "cell_type": "raw",
   "metadata": {},
   "source": [
    "Since mode>= median > mean, the distribution of Rating is Negatively Skewed.Therefore distribution of Rating is more Skewed towards lower values."
   ]
  },
  {
   "cell_type": "markdown",
   "metadata": {},
   "source": [
    "# 6. What are the top Content Rating values?"
   ]
  },
  {
   "cell_type": "markdown",
   "metadata": {},
   "source": [
    "a. Are there any values with very few records?"
   ]
  },
  {
   "cell_type": "code",
   "execution_count": 76,
   "metadata": {},
   "outputs": [
    {
     "data": {
      "text/plain": [
       "Everyone           6782\n",
       "Teen                900\n",
       "Mature 17+          417\n",
       "Everyone 10+        332\n",
       "Adults only 18+       3\n",
       "Unrated               1\n",
       "Name: Content Rating, dtype: int64"
      ]
     },
     "execution_count": 76,
     "metadata": {},
     "output_type": "execute_result"
    }
   ],
   "source": [
    "data['Content Rating'].value_counts()"
   ]
  },
  {
   "cell_type": "raw",
   "metadata": {},
   "source": [
    "Adults only 18+ and Unrated are values with very few records so we drop them."
   ]
  },
  {
   "cell_type": "markdown",
   "metadata": {},
   "source": [
    "b. If yes, drop those as they won’t help in the analysis"
   ]
  },
  {
   "cell_type": "code",
   "execution_count": 77,
   "metadata": {},
   "outputs": [],
   "source": [
    "#Replacing unwanted values with NaN\n",
    "NaN = []\n",
    "for k in data['Content Rating']:\n",
    "    NaN.append(k.replace('Adults only 18+','NaN').replace('Unrated','NaN'))\n",
    "\n",
    "data['Content Rating']=NaN"
   ]
  },
  {
   "cell_type": "code",
   "execution_count": 78,
   "metadata": {},
   "outputs": [
    {
     "name": "stdout",
     "output_type": "stream",
     "text": [
      "droped cols Int64Index([298, 3043, 6424, 8266], dtype='int64')\n"
     ]
    }
   ],
   "source": [
    "# Droping the NaN values.\n",
    "drop_val= data[data[\"Content Rating\"] == 'NaN'].index\n",
    "data.drop(labels=drop_val, inplace=True)\n",
    "print('droped cols',drop_val)\n",
    "#when inplace = true the target data based on the condition will be dropped permenantly"
   ]
  },
  {
   "cell_type": "code",
   "execution_count": 79,
   "metadata": {},
   "outputs": [
    {
     "data": {
      "text/plain": [
       "Everyone        6782\n",
       "Teen             900\n",
       "Mature 17+       417\n",
       "Everyone 10+     332\n",
       "Name: Content Rating, dtype: int64"
      ]
     },
     "execution_count": 79,
     "metadata": {},
     "output_type": "execute_result"
    }
   ],
   "source": [
    "data['Content Rating'].value_counts()"
   ]
  },
  {
   "cell_type": "markdown",
   "metadata": {},
   "source": [
    "# Task 7. Effect of size on rating"
   ]
  },
  {
   "cell_type": "markdown",
   "metadata": {},
   "source": [
    "a. Make a joinplot to understand the effect of size on rating"
   ]
  },
  {
   "cell_type": "code",
   "execution_count": 80,
   "metadata": {},
   "outputs": [
    {
     "data": {
      "image/png": "[encoded data removed]",
      "text/plain": [
       "<Figure size 432x432 with 3 Axes>"
      ]
     },
     "metadata": {
      "needs_background": "light"
     },
     "output_type": "display_data"
    }
   ],
   "source": [
    "sns.jointplot(y ='Size', x ='Rating', data = data, kind ='hex')\n",
    "plt.show()"
   ]
  },
  {
   "cell_type": "markdown",
   "metadata": {},
   "source": [
    "b. Do you see any patterns?"
   ]
  },
  {
   "cell_type": "raw",
   "metadata": {},
   "source": [
    "Yes, patterns can be observed between Size and Rating ie. they are in correlation between Size and Rating."
   ]
  },
  {
   "cell_type": "markdown",
   "metadata": {},
   "source": [
    "c. How do you explain the pattern?"
   ]
  },
  {
   "cell_type": "raw",
   "metadata": {},
   "source": [
    "Generally on increasing Rating, Size of App also increases. But this is not always true ie. for higher Rating, their is constant Size. Thus we can conclude that there is positive correlation between Size and Rating."
   ]
  },
  {
   "cell_type": "markdown",
   "metadata": {},
   "source": [
    "# Task 8. Effect of price on rating"
   ]
  },
  {
   "cell_type": "markdown",
   "metadata": {},
   "source": [
    "a. Make a jointplot (with regression line)"
   ]
  },
  {
   "cell_type": "code",
   "execution_count": 88,
   "metadata": {},
   "outputs": [
    {
     "data": {
      "image/png": "[encoded data removed]",
      "text/plain": [
       "<Figure size 432x432 with 3 Axes>"
      ]
     },
     "metadata": {
      "needs_background": "light"
     },
     "output_type": "display_data"
    }
   ],
   "source": [
    "sns.jointplot(x='Price', y='Rating', data =data1, kind='reg')\n",
    "plt.show()"
   ]
  },
  {
   "cell_type": "markdown",
   "metadata": {},
   "source": [
    "b. What pattern do you see?\n",
    "\n",
    "\n",
    "\n"
   ]
  },
  {
   "cell_type": "raw",
   "metadata": {},
   "source": [
    "Generally on increasing the Price, Rating remains almost constant greater than 4."
   ]
  },
  {
   "cell_type": "markdown",
   "metadata": {},
   "source": [
    "c. How do you explain the pattern?"
   ]
  },
  {
   "cell_type": "raw",
   "metadata": {},
   "source": [
    "Since on increasing the Price, Rating remains almost constant greater than 4. Thus it can be concluded that there is very weak Positive correlation between Rating and Price."
   ]
  },
  {
   "cell_type": "code",
   "execution_count": 89,
   "metadata": {},
   "outputs": [
    {
     "data": {
      "text/html": [
       "<div>\n",
       "<style scoped>\n",
       "    .dataframe tbody tr th:only-of-type {\n",
       "        vertical-align: middle;\n",
       "    }\n",
       "\n",
       "    .dataframe tbody tr th {\n",
       "        vertical-align: top;\n",
       "    }\n",
       "\n",
       "    .dataframe thead th {\n",
       "        text-align: right;\n",
       "    }\n",
       "</style>\n",
       "<table border=\"1\" class=\"dataframe\">\n",
       "  <thead>\n",
       "    <tr style=\"text-align: right;\">\n",
       "      <th></th>\n",
       "      <th>Rating</th>\n",
       "      <th>Reviews</th>\n",
       "      <th>Size</th>\n",
       "      <th>Installs</th>\n",
       "      <th>Price</th>\n",
       "    </tr>\n",
       "  </thead>\n",
       "  <tbody>\n",
       "    <tr>\n",
       "      <th>Rating</th>\n",
       "      <td>1.000000</td>\n",
       "      <td>0.158547</td>\n",
       "      <td>0.058076</td>\n",
       "      <td>0.118414</td>\n",
       "      <td>0.031479</td>\n",
       "    </tr>\n",
       "    <tr>\n",
       "      <th>Reviews</th>\n",
       "      <td>0.158547</td>\n",
       "      <td>1.000000</td>\n",
       "      <td>0.204667</td>\n",
       "      <td>0.736038</td>\n",
       "      <td>-0.073446</td>\n",
       "    </tr>\n",
       "    <tr>\n",
       "      <th>Size</th>\n",
       "      <td>0.058076</td>\n",
       "      <td>0.204667</td>\n",
       "      <td>1.000000</td>\n",
       "      <td>0.190741</td>\n",
       "      <td>-0.001054</td>\n",
       "    </tr>\n",
       "    <tr>\n",
       "      <th>Installs</th>\n",
       "      <td>0.118414</td>\n",
       "      <td>0.736038</td>\n",
       "      <td>0.190741</td>\n",
       "      <td>1.000000</td>\n",
       "      <td>-0.110507</td>\n",
       "    </tr>\n",
       "    <tr>\n",
       "      <th>Price</th>\n",
       "      <td>0.031479</td>\n",
       "      <td>-0.073446</td>\n",
       "      <td>-0.001054</td>\n",
       "      <td>-0.110507</td>\n",
       "      <td>1.000000</td>\n",
       "    </tr>\n",
       "  </tbody>\n",
       "</table>\n",
       "</div>"
      ],
      "text/plain": [
       "            Rating   Reviews      Size  Installs     Price\n",
       "Rating    1.000000  0.158547  0.058076  0.118414  0.031479\n",
       "Reviews   0.158547  1.000000  0.204667  0.736038 -0.073446\n",
       "Size      0.058076  0.204667  1.000000  0.190741 -0.001054\n",
       "Installs  0.118414  0.736038  0.190741  1.000000 -0.110507\n",
       "Price     0.031479 -0.073446 -0.001054 -0.110507  1.000000"
      ]
     },
     "execution_count": 89,
     "metadata": {},
     "output_type": "execute_result"
    }
   ],
   "source": [
    "data.corr()"
   ]
  },
  {
   "cell_type": "markdown",
   "metadata": {},
   "source": [
    "d. Replot the data, this time with only records with price > 0"
   ]
  },
  {
   "cell_type": "code",
   "execution_count": 90,
   "metadata": {},
   "outputs": [
    {
     "data": {
      "image/png": "[encoded data removed]",
      "text/plain": [
       "<Figure size 432x432 with 3 Axes>"
      ]
     },
     "metadata": {
      "needs_background": "light"
     },
     "output_type": "display_data"
    }
   ],
   "source": [
    "data1=data.loc[data.Price>0]\n",
    "sns.jointplot(x='Price', y='Rating', data=data1, kind='reg')\n",
    "plt.show()"
   ]
  },
  {
   "cell_type": "markdown",
   "metadata": {},
   "source": [
    "e. Does the pattern change?"
   ]
  },
  {
   "cell_type": "raw",
   "metadata": {},
   "source": [
    "Yes, On limiting the record with Price > 0, the overall pattern changed a slight ie their is very weakly Negative Correlation between Price and Rating."
   ]
  },
  {
   "cell_type": "code",
   "execution_count": 92,
   "metadata": {},
   "outputs": [
    {
     "data": {
      "text/html": [
       "<div>\n",
       "<style scoped>\n",
       "    .dataframe tbody tr th:only-of-type {\n",
       "        vertical-align: middle;\n",
       "    }\n",
       "\n",
       "    .dataframe tbody tr th {\n",
       "        vertical-align: top;\n",
       "    }\n",
       "\n",
       "    .dataframe thead th {\n",
       "        text-align: right;\n",
       "    }\n",
       "</style>\n",
       "<table border=\"1\" class=\"dataframe\">\n",
       "  <thead>\n",
       "    <tr style=\"text-align: right;\">\n",
       "      <th></th>\n",
       "      <th>Rating</th>\n",
       "      <th>Reviews</th>\n",
       "      <th>Size</th>\n",
       "      <th>Installs</th>\n",
       "      <th>Price</th>\n",
       "    </tr>\n",
       "  </thead>\n",
       "  <tbody>\n",
       "    <tr>\n",
       "      <th>Rating</th>\n",
       "      <td>1.000000</td>\n",
       "      <td>0.095986</td>\n",
       "      <td>0.117943</td>\n",
       "      <td>0.063960</td>\n",
       "      <td>-0.025975</td>\n",
       "    </tr>\n",
       "    <tr>\n",
       "      <th>Reviews</th>\n",
       "      <td>0.095986</td>\n",
       "      <td>1.000000</td>\n",
       "      <td>0.163959</td>\n",
       "      <td>0.787628</td>\n",
       "      <td>-0.049764</td>\n",
       "    </tr>\n",
       "    <tr>\n",
       "      <th>Size</th>\n",
       "      <td>0.117943</td>\n",
       "      <td>0.163959</td>\n",
       "      <td>1.000000</td>\n",
       "      <td>0.119255</td>\n",
       "      <td>0.024912</td>\n",
       "    </tr>\n",
       "    <tr>\n",
       "      <th>Installs</th>\n",
       "      <td>0.063960</td>\n",
       "      <td>0.787628</td>\n",
       "      <td>0.119255</td>\n",
       "      <td>1.000000</td>\n",
       "      <td>-0.057710</td>\n",
       "    </tr>\n",
       "    <tr>\n",
       "      <th>Price</th>\n",
       "      <td>-0.025975</td>\n",
       "      <td>-0.049764</td>\n",
       "      <td>0.024912</td>\n",
       "      <td>-0.057710</td>\n",
       "      <td>1.000000</td>\n",
       "    </tr>\n",
       "  </tbody>\n",
       "</table>\n",
       "</div>"
      ],
      "text/plain": [
       "            Rating   Reviews      Size  Installs     Price\n",
       "Rating    1.000000  0.095986  0.117943  0.063960 -0.025975\n",
       "Reviews   0.095986  1.000000  0.163959  0.787628 -0.049764\n",
       "Size      0.117943  0.163959  1.000000  0.119255  0.024912\n",
       "Installs  0.063960  0.787628  0.119255  1.000000 -0.057710\n",
       "Price    -0.025975 -0.049764  0.024912 -0.057710  1.000000"
      ]
     },
     "execution_count": 92,
     "metadata": {},
     "output_type": "execute_result"
    }
   ],
   "source": [
    "data1.corr()"
   ]
  },
  {
   "cell_type": "markdown",
   "metadata": {},
   "source": [
    "f. What is your overall inference on the effect of price on the rating"
   ]
  },
  {
   "cell_type": "raw",
   "metadata": {},
   "source": [
    "Generally increasing the Prices, doesn't have signifcant effect on Higher Rating. For Higher Price, Rating is High and almost constant ie greater than 4"
   ]
  },
  {
   "cell_type": "markdown",
   "metadata": {},
   "source": [
    "# 9. Look at all the numeric interactions together "
   ]
  },
  {
   "cell_type": "markdown",
   "metadata": {},
   "source": [
    "a. Make a pairplort with the colulmns - 'Reviews', 'Size', 'Rating', 'Price"
   ]
  },
  {
   "cell_type": "code",
   "execution_count": 93,
   "metadata": {},
   "outputs": [
    {
     "data": {
      "image/png": "[encoded data removed]",
      "text/plain": [
       "<Figure size 720x720 with 20 Axes>"
      ]
     },
     "metadata": {
      "needs_background": "light"
     },
     "output_type": "display_data"
    }
   ],
   "source": [
    "sns.pairplot(data, vars=['Reviews', 'Size', 'Rating', 'Price'], kind='reg')\n",
    "plt.show()"
   ]
  },
  {
   "cell_type": "markdown",
   "metadata": {},
   "source": [
    "# Task 10. Rating vs. content rating"
   ]
  },
  {
   "cell_type": "markdown",
   "metadata": {},
   "source": [
    "a. Make a bar plot displaying the rating for each content rating"
   ]
  },
  {
   "cell_type": "code",
   "execution_count": 95,
   "metadata": {},
   "outputs": [
    {
     "data": {
      "image/png": "[encoded data removed]",
      "text/plain": [
       "<Figure size 432x288 with 1 Axes>"
      ]
     },
     "metadata": {
      "needs_background": "light"
     },
     "output_type": "display_data"
    }
   ],
   "source": [
    "data.groupby(['Content Rating'])['Rating'].count().plot.bar(color=\"darkblue\")\n",
    "plt.show()"
   ]
  },
  {
   "cell_type": "markdown",
   "metadata": {},
   "source": [
    "b. Which metric would you use? Mean? Median? Some other quantile?"
   ]
  },
  {
   "cell_type": "raw",
   "metadata": {},
   "source": [
    "We must use Median in this case as we are having Outliers in Rating. Because in case of Outliers , median is the best measure of central tendency."
   ]
  },
  {
   "cell_type": "code",
   "execution_count": 96,
   "metadata": {},
   "outputs": [
    {
     "data": {
      "image/png": "[encoded data removed]",
      "text/plain": [
       "<Figure size 432x288 with 1 Axes>"
      ]
     },
     "metadata": {
      "needs_background": "light"
     },
     "output_type": "display_data"
    }
   ],
   "source": [
    "plt.boxplot(data['Rating'])\n",
    "plt.show()"
   ]
  },
  {
   "cell_type": "markdown",
   "metadata": {},
   "source": [
    "c. Choose the right metric and plot"
   ]
  },
  {
   "cell_type": "code",
   "execution_count": 98,
   "metadata": {},
   "outputs": [
    {
     "data": {
      "image/png": "[encoded data removed]",
      "text/plain": [
       "<Figure size 432x288 with 1 Axes>"
      ]
     },
     "metadata": {
      "needs_background": "light"
     },
     "output_type": "display_data"
    }
   ],
   "source": [
    "data.groupby(['Content Rating'])['Rating'].median().plot.barh(color=\"pink\")\n",
    "plt.show()"
   ]
  },
  {
   "cell_type": "markdown",
   "metadata": {},
   "source": [
    "# Task 11. Content rating vs. size vs. rating – 3 variables at a time"
   ]
  },
  {
   "cell_type": "markdown",
   "metadata": {},
   "source": [
    "a. Create 5 buckets (20% records in each) based on Size"
   ]
  },
  {
   "cell_type": "code",
   "execution_count": 99,
   "metadata": {},
   "outputs": [
    {
     "data": {
      "text/html": [
       "<div>\n",
       "<style scoped>\n",
       "    .dataframe tbody tr th:only-of-type {\n",
       "        vertical-align: middle;\n",
       "    }\n",
       "\n",
       "    .dataframe tbody tr th {\n",
       "        vertical-align: top;\n",
       "    }\n",
       "\n",
       "    .dataframe thead th {\n",
       "        text-align: right;\n",
       "    }\n",
       "</style>\n",
       "<table border=\"1\" class=\"dataframe\">\n",
       "  <thead>\n",
       "    <tr style=\"text-align: right;\">\n",
       "      <th>Content Rating</th>\n",
       "      <th>Everyone</th>\n",
       "      <th>Everyone 10+</th>\n",
       "      <th>Mature 17+</th>\n",
       "      <th>Teen</th>\n",
       "    </tr>\n",
       "    <tr>\n",
       "      <th>Bucket Size</th>\n",
       "      <th></th>\n",
       "      <th></th>\n",
       "      <th></th>\n",
       "      <th></th>\n",
       "    </tr>\n",
       "  </thead>\n",
       "  <tbody>\n",
       "    <tr>\n",
       "      <th>0-20k</th>\n",
       "      <td>4.145730</td>\n",
       "      <td>4.247561</td>\n",
       "      <td>4.010582</td>\n",
       "      <td>4.182240</td>\n",
       "    </tr>\n",
       "    <tr>\n",
       "      <th>20k-40k</th>\n",
       "      <td>4.200195</td>\n",
       "      <td>4.169811</td>\n",
       "      <td>4.156291</td>\n",
       "      <td>4.170432</td>\n",
       "    </tr>\n",
       "    <tr>\n",
       "      <th>40k-60k</th>\n",
       "      <td>4.167083</td>\n",
       "      <td>4.263636</td>\n",
       "      <td>4.190476</td>\n",
       "      <td>4.237383</td>\n",
       "    </tr>\n",
       "    <tr>\n",
       "      <th>60k-80k</th>\n",
       "      <td>4.245408</td>\n",
       "      <td>4.280769</td>\n",
       "      <td>4.200000</td>\n",
       "      <td>4.274194</td>\n",
       "    </tr>\n",
       "    <tr>\n",
       "      <th>80k-100k</th>\n",
       "      <td>4.260127</td>\n",
       "      <td>4.304762</td>\n",
       "      <td>4.252632</td>\n",
       "      <td>4.270313</td>\n",
       "    </tr>\n",
       "  </tbody>\n",
       "</table>\n",
       "</div>"
      ],
      "text/plain": [
       "Content Rating  Everyone  Everyone 10+  Mature 17+      Teen\n",
       "Bucket Size                                                 \n",
       "0-20k           4.145730      4.247561    4.010582  4.182240\n",
       "20k-40k         4.200195      4.169811    4.156291  4.170432\n",
       "40k-60k         4.167083      4.263636    4.190476  4.237383\n",
       "60k-80k         4.245408      4.280769    4.200000  4.274194\n",
       "80k-100k        4.260127      4.304762    4.252632  4.270313"
      ]
     },
     "execution_count": 99,
     "metadata": {},
     "output_type": "execute_result"
    }
   ],
   "source": [
    "buckets=[0, 20000, 40000, 60000, 80000, 100000]\n",
    "data['Bucket Size'] = pd.cut(data['Size'], buckets, labels=['0-20k','20k-40k','40k-60k','60k-80k','80k-100k'])\n",
    "pd.pivot_table(data, values='Rating', index='Bucket Size', columns='Content Rating')"
   ]
  },
  {
   "cell_type": "markdown",
   "metadata": {},
   "source": [
    "b. By Content Rating vs. Size buckets, get the rating (20th percentile) for each combination"
   ]
  },
  {
   "cell_type": "code",
   "execution_count": 100,
   "metadata": {},
   "outputs": [
    {
     "data": {
      "text/html": [
       "<div>\n",
       "<style scoped>\n",
       "    .dataframe tbody tr th:only-of-type {\n",
       "        vertical-align: middle;\n",
       "    }\n",
       "\n",
       "    .dataframe tbody tr th {\n",
       "        vertical-align: top;\n",
       "    }\n",
       "\n",
       "    .dataframe thead th {\n",
       "        text-align: right;\n",
       "    }\n",
       "</style>\n",
       "<table border=\"1\" class=\"dataframe\">\n",
       "  <thead>\n",
       "    <tr style=\"text-align: right;\">\n",
       "      <th>Content Rating</th>\n",
       "      <th>Everyone</th>\n",
       "      <th>Everyone 10+</th>\n",
       "      <th>Mature 17+</th>\n",
       "      <th>Teen</th>\n",
       "    </tr>\n",
       "    <tr>\n",
       "      <th>Bucket Size</th>\n",
       "      <th></th>\n",
       "      <th></th>\n",
       "      <th></th>\n",
       "      <th></th>\n",
       "    </tr>\n",
       "  </thead>\n",
       "  <tbody>\n",
       "    <tr>\n",
       "      <th>0-20k</th>\n",
       "      <td>3.80</td>\n",
       "      <td>4.02</td>\n",
       "      <td>3.5</td>\n",
       "      <td>3.9</td>\n",
       "    </tr>\n",
       "    <tr>\n",
       "      <th>20k-40k</th>\n",
       "      <td>4.00</td>\n",
       "      <td>4.00</td>\n",
       "      <td>4.0</td>\n",
       "      <td>3.9</td>\n",
       "    </tr>\n",
       "    <tr>\n",
       "      <th>40k-60k</th>\n",
       "      <td>3.90</td>\n",
       "      <td>4.06</td>\n",
       "      <td>4.1</td>\n",
       "      <td>4.0</td>\n",
       "    </tr>\n",
       "    <tr>\n",
       "      <th>60k-80k</th>\n",
       "      <td>4.00</td>\n",
       "      <td>4.00</td>\n",
       "      <td>4.0</td>\n",
       "      <td>4.0</td>\n",
       "    </tr>\n",
       "    <tr>\n",
       "      <th>80k-100k</th>\n",
       "      <td>4.04</td>\n",
       "      <td>4.10</td>\n",
       "      <td>4.0</td>\n",
       "      <td>4.0</td>\n",
       "    </tr>\n",
       "  </tbody>\n",
       "</table>\n",
       "</div>"
      ],
      "text/plain": [
       "Content Rating  Everyone  Everyone 10+  Mature 17+  Teen\n",
       "Bucket Size                                             \n",
       "0-20k               3.80          4.02         3.5   3.9\n",
       "20k-40k             4.00          4.00         4.0   3.9\n",
       "40k-60k             3.90          4.06         4.1   4.0\n",
       "60k-80k             4.00          4.00         4.0   4.0\n",
       "80k-100k            4.04          4.10         4.0   4.0"
      ]
     },
     "execution_count": 100,
     "metadata": {},
     "output_type": "execute_result"
    }
   ],
   "source": [
    "rating=pd.pivot_table(data, values='Rating', index='Bucket Size', columns='Content Rating', aggfunc=lambda x:np.quantile(x,0.2))\n",
    "rating"
   ]
  },
  {
   "cell_type": "markdown",
   "metadata": {},
   "source": [
    "c. Make a heatmap of this"
   ]
  },
  {
   "cell_type": "markdown",
   "metadata": {},
   "source": [
    "i. Annotated"
   ]
  },
  {
   "cell_type": "code",
   "execution_count": 104,
   "metadata": {},
   "outputs": [
    {
     "data": {
      "image/png": "[encoded data removed]",
      "text/plain": [
       "<Figure size 360x360 with 2 Axes>"
      ]
     },
     "metadata": {
      "needs_background": "light"
     },
     "output_type": "display_data"
    }
   ],
   "source": [
    "f,ax = plt.subplots(figsize=(5, 5))\n",
    "sns.heatmap(rating, annot=True, linewidths=.5, fmt='.1f',ax=ax)\n",
    "plt.show()"
   ]
  },
  {
   "cell_type": "markdown",
   "metadata": {},
   "source": [
    "ii.Greens color map"
   ]
  },
  {
   "cell_type": "code",
   "execution_count": 105,
   "metadata": {},
   "outputs": [
    {
     "data": {
      "image/png": "[encoded data removed]",
      "text/plain": [
       "<Figure size 360x360 with 2 Axes>"
      ]
     },
     "metadata": {
      "needs_background": "light"
     },
     "output_type": "display_data"
    }
   ],
   "source": [
    "f,ax = plt.subplots(figsize=(5, 5))\n",
    "sns.heatmap(rating, annot=True, linewidths=.5, cmap='Greens',fmt='.1f',ax=ax)\n",
    "plt.show()"
   ]
  },
  {
   "cell_type": "markdown",
   "metadata": {},
   "source": [
    "d. What’s your inference? Are lighter apps preferred in all categories? Heavier? Some?"
   ]
  },
  {
   "cell_type": "raw",
   "metadata": {},
   "source": [
    "Based on analysis, its not true that lighter apps are preferred in all categories. Because apps with size 40k-60k and 80k-100k have got the highest rating in all cateegories. So, in general we can conclude that heavier apps are preferred in all categories."
   ]
  },
  {
   "cell_type": "code",
   "execution_count": null,
   "metadata": {},
   "outputs": [],
   "source": []
  },
  {
   "cell_type": "code",
   "execution_count": null,
   "metadata": {},
   "outputs": [],
   "source": []
  }
 ],
 "metadata": {
  "kernelspec": {
   "display_name": "Python 3",
   "language": "python",
   "name": "python3"
  },
  "language_info": {
   "codemirror_mode": {
    "name": "ipython",
    "version": 3
   },
   "file_extension": ".py",
   "mimetype": "text/x-python",
   "name": "python",
   "nbconvert_exporter": "python",
   "pygments_lexer": "ipython3",
   "version": "3.7.6"
  }
 },
 "nbformat": 4,
 "nbformat_minor": 4
}
